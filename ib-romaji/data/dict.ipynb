{
 "cells": [
  {
   "cell_type": "code",
   "execution_count": 2,
   "metadata": {},
   "outputs": [],
   "source": [
    "import json"
   ]
  },
  {
   "cell_type": "code",
   "execution_count": 3,
   "metadata": {},
   "outputs": [],
   "source": [
    "with open('jmdict-eng-3.6.1.json', 'r', encoding='utf-8') as f:\n",
    "    jmdict = json.load(f)"
   ]
  },
  {
   "cell_type": "code",
   "execution_count": 4,
   "metadata": {},
   "outputs": [
    {
     "name": "stdout",
     "output_type": "stream",
     "text": [
      "c 172429\n",
      "dup 4209\n"
     ]
    }
   ],
   "source": [
    "words = {}\n",
    "jmdict_single = {}\n",
    "c = 0\n",
    "dup = 0\n",
    "\n",
    "for char in jmdict['words']:\n",
    "    kanji = char['kanji']\n",
    "    if len(kanji) == 0:\n",
    "        continue\n",
    "    kana = char['kana']\n",
    "    \n",
    "    # わたし、定時で帰ります。\n",
    "    kanji_text = [k['text'].removesuffix('。') for k in kanji]\n",
    "    kana_text = [k['text'].removesuffix('。') for k in kana]\n",
    "    if kana_text[0] == '二リンさん':\n",
    "        kana_text[0] = 'にリンさん'\n",
    "\n",
    "    # TODO: appliesToKanji\n",
    "    c += 1\n",
    "    # print(kanji_text, kana_text)\n",
    "    \n",
    "    for kanji in kanji_text:\n",
    "        if kanji in words:\n",
    "            words[kanji].extend(kana_text)\n",
    "            dup += 1\n",
    "        elif kanji in jmdict_single:\n",
    "            jmdict_single[kanji].extend(kana_text)\n",
    "            dup += 1\n",
    "        else:\n",
    "            if len(kanji) == 1:\n",
    "                jmdict_single[kanji] = kana_text\n",
    "            else:\n",
    "                words[kanji] = kana_text\n",
    "\n",
    "with open('jmdict.csv', 'w', encoding='utf-8') as out, open('jmdict-single.csv', 'w', encoding='utf-8') as out_single:\n",
    "    for kanji in words:\n",
    "        kanas = '\\t'.join(words[kanji])\n",
    "        out.write(f'{kanji}\\t{kanas}\\n')\n",
    "    for kanji in jmdict_single:\n",
    "        kanas = '\\t'.join(jmdict_single[kanji])\n",
    "        out_single.write(f'{kanji}\\t{kanas}\\n')\n",
    "\n",
    "print('c', c)\n",
    "print('dup', dup)"
   ]
  },
  {
   "cell_type": "code",
   "execution_count": 5,
   "metadata": {},
   "outputs": [],
   "source": [
    "with open('kanjidic2-en-3.6.1.json', 'r', encoding='utf-8') as f:\n",
    "    kanjidic = json.load(f)"
   ]
  },
  {
   "cell_type": "code",
   "execution_count": 6,
   "metadata": {},
   "outputs": [
    {
     "data": {
      "text/plain": [
       "10314"
      ]
     },
     "execution_count": 6,
     "metadata": {},
     "output_type": "execute_result"
    }
   ],
   "source": [
    "c = 0\n",
    "with open('kanjidic.csv', 'w', encoding='utf-8') as out:\n",
    "    for char in kanjidic['characters']:\n",
    "        kanji = char['literal']\n",
    "        assert len(kanji) == 1\n",
    "\n",
    "        readingMeaning = char['readingMeaning']\n",
    "        groups = readingMeaning['groups']\n",
    "        readings = [r['value'] for group in groups for r in group['readings'] if r['type'].startswith('j')]\n",
    "        nanori = readingMeaning['nanori']\n",
    "        kanas = readings + nanori\n",
    "\n",
    "        if kanji in jmdict_single:\n",
    "            kanas = set(jmdict_single.pop(kanji) + kanas)\n",
    "        if len(kanas) == 0:\n",
    "            continue\n",
    "\n",
    "        # TODO: Optional 送り仮名?\n",
    "        kanas = [k.replace('-', '').replace('.', '') for k in kanas]\n",
    "\n",
    "        c += 1\n",
    "        # print(kanji_text, kana_text)\n",
    "        \n",
    "        kanas = '\\t'.join(kanas)\n",
    "        out.write(f'{kanji}\\t{kanas}\\n')\n",
    "    for kanji in jmdict_single:\n",
    "        kanas = jmdict_single[kanji]\n",
    "\n",
    "        c += 1\n",
    "\n",
    "        kanas = '\\t'.join(kanas)\n",
    "        out.write(f'{kanji}\\t{kanas}\\n')\n",
    "c"
   ]
  }
 ],
 "metadata": {
  "kernelspec": {
   "display_name": "base",
   "language": "python",
   "name": "python3"
  },
  "language_info": {
   "codemirror_mode": {
    "name": "ipython",
    "version": 3
   },
   "file_extension": ".py",
   "mimetype": "text/x-python",
   "name": "python",
   "nbconvert_exporter": "python",
   "pygments_lexer": "ipython3",
   "version": "3.9.1"
  }
 },
 "nbformat": 4,
 "nbformat_minor": 2
}
