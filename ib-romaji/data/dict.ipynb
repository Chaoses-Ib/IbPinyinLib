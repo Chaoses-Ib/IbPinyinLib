{
 "cells": [
  {
   "cell_type": "code",
   "execution_count": 2,
   "metadata": {},
   "outputs": [],
   "source": [
    "import json"
   ]
  },
  {
   "cell_type": "code",
   "execution_count": 3,
   "metadata": {},
   "outputs": [],
   "source": [
    "with open('jmdict-eng-3.6.1.json', 'r', encoding='utf-8') as f:\n",
    "    jmdict = json.load(f)"
   ]
  },
  {
   "cell_type": "code",
   "execution_count": 4,
   "metadata": {},
   "outputs": [
    {
     "data": {
      "text/plain": [
       "172429"
      ]
     },
     "execution_count": 4,
     "metadata": {},
     "output_type": "execute_result"
    }
   ],
   "source": [
    "jmdict_single = {}\n",
    "c = 0\n",
    "with open('jmdict.csv', 'w', encoding='utf-8') as out, open('jmdict-single.csv', 'w', encoding='utf-8') as out_single:\n",
    "    for char in jmdict['words']:\n",
    "        kanji = char['kanji']\n",
    "        if len(kanji) == 0:\n",
    "            continue\n",
    "        kana = char['kana']\n",
    "        \n",
    "        # わたし、定時で帰ります。\n",
    "        kanji_text = [k['text'].removesuffix('。') for k in kanji]\n",
    "        kana_text = [k['text'].removesuffix('。') for k in kana]\n",
    "        if kana_text[0] == '二リンさん':\n",
    "            kana_text[0] = 'にリンさん'\n",
    "\n",
    "        # TODO: appliesToKanji\n",
    "        c += 1\n",
    "        # print(kanji_text, kana_text)\n",
    "        \n",
    "        for kanji in kanji_text:\n",
    "            kanas = '\\t'.join(kana_text)\n",
    "            if len(kanji) == 1:\n",
    "                jmdict_single[kanji] = kana_text\n",
    "                out_single.write(f'{kanji}\\t{kanas}\\n')\n",
    "            else:\n",
    "                out.write(f'{kanji}\\t{kanas}\\n')\n",
    "c"
   ]
  },
  {
   "cell_type": "code",
   "execution_count": 5,
   "metadata": {},
   "outputs": [],
   "source": [
    "with open('kanjidic2-en-3.6.1.json', 'r', encoding='utf-8') as f:\n",
    "    kanjidic = json.load(f)"
   ]
  },
  {
   "cell_type": "code",
   "execution_count": 6,
   "metadata": {},
   "outputs": [
    {
     "data": {
      "text/plain": [
       "10107"
      ]
     },
     "execution_count": 6,
     "metadata": {},
     "output_type": "execute_result"
    }
   ],
   "source": [
    "c = 0\n",
    "with open('kanjidic.csv', 'w', encoding='utf-8') as out:\n",
    "    for char in kanjidic['characters']:\n",
    "        kanji = char['literal']\n",
    "        assert len(kanji) == 1\n",
    "\n",
    "        readingMeaning = char['readingMeaning']\n",
    "        groups = readingMeaning['groups']\n",
    "        readings = [r['value'] for group in groups for r in group['readings'] if r['type'].startswith('j')]\n",
    "        nanori = readingMeaning['nanori']\n",
    "        kanas = readings + nanori\n",
    "\n",
    "        if kanji in jmdict_single:\n",
    "            kanas = set(jmdict_single[kanji] + kanas)\n",
    "        if len(kanas) == 0:\n",
    "            continue\n",
    "\n",
    "        # TODO: Optional 送り仮名?\n",
    "        kanas = [k.replace('-', '').replace('.', '') for k in kanas]\n",
    "\n",
    "        c += 1\n",
    "        # print(kanji_text, kana_text)\n",
    "        \n",
    "        kanas = '\\t'.join(kanas)\n",
    "        out.write(f'{kanji}\\t{kanas}\\n')\n",
    "c"
   ]
  }
 ],
 "metadata": {
  "kernelspec": {
   "display_name": "base",
   "language": "python",
   "name": "python3"
  },
  "language_info": {
   "codemirror_mode": {
    "name": "ipython",
    "version": 3
   },
   "file_extension": ".py",
   "mimetype": "text/x-python",
   "name": "python",
   "nbconvert_exporter": "python",
   "pygments_lexer": "ipython3",
   "version": "3.9.1"
  }
 },
 "nbformat": 4,
 "nbformat_minor": 2
}
